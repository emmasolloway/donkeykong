{
  "nbformat": 4,
  "nbformat_minor": 0,
  "metadata": {
    "colab": {
      "name": "Assignment Week 10.ipynb",
      "provenance": [],
      "include_colab_link": true
    },
    "kernelspec": {
      "name": "python3",
      "display_name": "Python 3"
    }
  },
  "cells": [
    {
      "cell_type": "markdown",
      "metadata": {
        "id": "view-in-github",
        "colab_type": "text"
      },
      "source": [
        "<a href=\"https://colab.research.google.com/github/emmasolloway/donkeykong/blob/master/Assignment_Week_10.ipynb\" target=\"_parent\"><img src=\"https://colab.research.google.com/assets/colab-badge.svg\" alt=\"Open In Colab\"/></a>"
      ]
    },
    {
      "cell_type": "markdown",
      "metadata": {
        "id": "3s6mU2pbouTC"
      },
      "source": [
        "**FUN WITH TEXT FILES**\n",
        "\n",
        "In the worksheet this week, we had a bunch of examples of working with text in an external file. In the assignment, we will build on the examples in the Worksheet. \n",
        "\n",
        "You can find the worksheet here: https://github.com/mlepinski/Python-Worksheets/blob/master/Week_10_Worksheet.ipynb\n",
        "\n",
        "1) Write a function, **count_lines** that takes in a file name as input to the function. (That is, as a parameter to the function, you don't want someone to have to type a URL at the keyboard). You function should loop through the lines in the file and count how many lines there are. \n",
        "\n",
        "If you write your function correctly, the following test code should work:"
      ]
    },
    {
      "cell_type": "code",
      "metadata": {
        "id": "XB2Sfz41osfq",
        "outputId": "0a46e6ed-c2dc-41bb-fae7-2479918a7c2e",
        "colab": {
          "base_uri": "https://localhost:8080/",
          "height": 232
        }
      },
      "source": [
        "file_name1 = \"https://raw.githubusercontent.com/mlepinski/Python-Worksheets/master/Sonnets.txt\"\n",
        "answer1 = count_lines(file_name1)\n",
        "\n",
        "file_name2 = file_name = \"https://raw.githubusercontent.com/mlepinski/Python-Worksheets/master/coolWords.txt\"\n",
        "answer2 = count_lines(file_name2)\n",
        "\n",
        "print(\"First file number of lines:\" , answer1)\n",
        "print(\"Second file number of lines:\" , answer2)"
      ],
      "execution_count": null,
      "outputs": [
        {
          "output_type": "error",
          "ename": "NameError",
          "evalue": "ignored",
          "traceback": [
            "\u001b[0;31m---------------------------------------------------------------------------\u001b[0m",
            "\u001b[0;31mNameError\u001b[0m                                 Traceback (most recent call last)",
            "\u001b[0;32m<ipython-input-3-bcce3092c19d>\u001b[0m in \u001b[0;36m<module>\u001b[0;34m()\u001b[0m\n\u001b[1;32m      1\u001b[0m \u001b[0mfile_name1\u001b[0m \u001b[0;34m=\u001b[0m \u001b[0;34m\"https://raw.githubusercontent.com/mlepinski/Python-Worksheets/master/Sonnets.txt\"\u001b[0m\u001b[0;34m\u001b[0m\u001b[0;34m\u001b[0m\u001b[0m\n\u001b[0;32m----> 2\u001b[0;31m \u001b[0manswer1\u001b[0m \u001b[0;34m=\u001b[0m \u001b[0mcount_lines\u001b[0m\u001b[0;34m(\u001b[0m\u001b[0mfile_name1\u001b[0m\u001b[0;34m)\u001b[0m\u001b[0;34m\u001b[0m\u001b[0;34m\u001b[0m\u001b[0m\n\u001b[0m\u001b[1;32m      3\u001b[0m \u001b[0;34m\u001b[0m\u001b[0m\n\u001b[1;32m      4\u001b[0m \u001b[0mfile_name2\u001b[0m \u001b[0;34m=\u001b[0m \u001b[0mfile_name\u001b[0m \u001b[0;34m=\u001b[0m \u001b[0;34m\"https://raw.githubusercontent.com/mlepinski/Python-Worksheets/master/coolWords.txt\"\u001b[0m\u001b[0;34m\u001b[0m\u001b[0;34m\u001b[0m\u001b[0m\n\u001b[1;32m      5\u001b[0m \u001b[0manswer2\u001b[0m \u001b[0;34m=\u001b[0m \u001b[0mcount_lines\u001b[0m\u001b[0;34m(\u001b[0m\u001b[0mfile_name2\u001b[0m\u001b[0;34m)\u001b[0m\u001b[0;34m\u001b[0m\u001b[0;34m\u001b[0m\u001b[0m\n",
            "\u001b[0;31mNameError\u001b[0m: name 'count_lines' is not defined"
          ]
        }
      ]
    },
    {
      "cell_type": "markdown",
      "metadata": {
        "id": "-UbHZq45q1gy"
      },
      "source": [
        "2) Write a function, **lines_with_word** that takes two as input both a file name and a word and counts how many lines in the file contain the word. \n",
        "\n",
        "Note: If the word is \"war\" it is perfectly fine (as in the Worksheet) to count lines with \"warm\" or \"warning\" as long as the letters \"war\" are somewhere on the line.\n",
        "\n",
        "Here is some test code: \n"
      ]
    },
    {
      "cell_type": "code",
      "metadata": {
        "id": "FMDKgKu1rR3w",
        "outputId": "fc0dba88-99a6-49b5-98ed-4d5066b5d233",
        "colab": {
          "base_uri": "https://localhost:8080/",
          "height": 232
        }
      },
      "source": [
        "file_name = \"https://raw.githubusercontent.com/mlepinski/Python-Worksheets/master/Sonnets.txt\"\n",
        "answer1 = lines_with_word(file_name, \"monuments\")\n",
        "\n",
        "print(\"monuments appears in \", answer1, \"lines\")\n",
        "\n",
        "answer2 = lines_with_word(file_name, \"war\")\n",
        "\n",
        "print(\"war appears in \", answer1, \"lines\")"
      ],
      "execution_count": null,
      "outputs": [
        {
          "output_type": "error",
          "ename": "NameError",
          "evalue": "ignored",
          "traceback": [
            "\u001b[0;31m---------------------------------------------------------------------------\u001b[0m",
            "\u001b[0;31mNameError\u001b[0m                                 Traceback (most recent call last)",
            "\u001b[0;32m<ipython-input-1-8f3adb6708ad>\u001b[0m in \u001b[0;36m<module>\u001b[0;34m()\u001b[0m\n\u001b[1;32m      1\u001b[0m \u001b[0mfile_name\u001b[0m \u001b[0;34m=\u001b[0m \u001b[0;34m\"https://raw.githubusercontent.com/mlepinski/Python-Worksheets/master/Sonnets.txt\"\u001b[0m\u001b[0;34m\u001b[0m\u001b[0;34m\u001b[0m\u001b[0m\n\u001b[0;32m----> 2\u001b[0;31m \u001b[0manswer1\u001b[0m \u001b[0;34m=\u001b[0m \u001b[0mlines_with_word\u001b[0m\u001b[0;34m(\u001b[0m\u001b[0mfile_name\u001b[0m\u001b[0;34m,\u001b[0m \u001b[0;34m\"monuments\"\u001b[0m\u001b[0;34m)\u001b[0m\u001b[0;34m\u001b[0m\u001b[0;34m\u001b[0m\u001b[0m\n\u001b[0m\u001b[1;32m      3\u001b[0m \u001b[0;34m\u001b[0m\u001b[0m\n\u001b[1;32m      4\u001b[0m \u001b[0mprint\u001b[0m\u001b[0;34m(\u001b[0m\u001b[0;34m\"monuments appears in \"\u001b[0m\u001b[0;34m,\u001b[0m \u001b[0manswer1\u001b[0m\u001b[0;34m,\u001b[0m \u001b[0;34m\"lines\"\u001b[0m\u001b[0;34m)\u001b[0m\u001b[0;34m\u001b[0m\u001b[0;34m\u001b[0m\u001b[0m\n\u001b[1;32m      5\u001b[0m \u001b[0;34m\u001b[0m\u001b[0m\n",
            "\u001b[0;31mNameError\u001b[0m: name 'lines_with_word' is not defined"
          ]
        }
      ]
    },
    {
      "cell_type": "markdown",
      "metadata": {
        "id": "zeI-gGmMrh5c"
      },
      "source": [
        "3) Modify your previous function **lines_with_word** so that it converts the entire line to lowercase before looking for the given word. (This way, if the word is \"shall\" and the line contains \"Shall\", it will still get counted.)\n",
        "\n",
        "Note: Your new function and your old function should give different answers with the input \"shall\" because sometimes \"shall\" is capitolized (\"Shall\") in the file. "
      ]
    },
    {
      "cell_type": "markdown",
      "metadata": {
        "id": "1Mor-eu6sHo-"
      },
      "source": [
        "4) Write a function **word_count** that takes as input a file name and a word and returns how many times the word appears in the file. \n",
        "\n",
        "Your function is counting occurances of the word and not lines. Also, for this problem please match the word exactly (so if you are looking for \"war\", don't count \"warm\" or \"warning\"). \n",
        "\n",
        "Also, as in question 3, your function should match regardless of whether the word in the file is upper case or lower case.\n",
        "\n",
        "Here is some example code."
      ]
    },
    {
      "cell_type": "code",
      "metadata": {
        "id": "Gx42q67ysHF0",
        "outputId": "ea5d12af-1458-4a49-e4c6-1cec60075f7e",
        "colab": {
          "base_uri": "https://localhost:8080/",
          "height": 232
        }
      },
      "source": [
        "file_name = \"https://raw.githubusercontent.com/mlepinski/Python-Worksheets/master/Sonnets.txt\"\n",
        "answer1 = word_count(file_name, \"monuments\")\n",
        "\n",
        "print(\"monuments appears \", answer1, \"times\")\n",
        "\n",
        "answer2 = word_count(file_name, \"war\")\n",
        "\n",
        "print(\"war appears times\", answer1, \"times\")"
      ],
      "execution_count": 9,
      "outputs": [
        {
          "output_type": "error",
          "ename": "NameError",
          "evalue": "ignored",
          "traceback": [
            "\u001b[0;31m---------------------------------------------------------------------------\u001b[0m",
            "\u001b[0;31mNameError\u001b[0m                                 Traceback (most recent call last)",
            "\u001b[0;32m<ipython-input-9-ca750ef87efd>\u001b[0m in \u001b[0;36m<module>\u001b[0;34m()\u001b[0m\n\u001b[1;32m      1\u001b[0m \u001b[0mfile_name\u001b[0m \u001b[0;34m=\u001b[0m \u001b[0;34m\"https://raw.githubusercontent.com/mlepinski/Python-Worksheets/master/Sonnets.txt\"\u001b[0m\u001b[0;34m\u001b[0m\u001b[0;34m\u001b[0m\u001b[0m\n\u001b[0;32m----> 2\u001b[0;31m \u001b[0manswer1\u001b[0m \u001b[0;34m=\u001b[0m \u001b[0mword_count\u001b[0m\u001b[0;34m(\u001b[0m\u001b[0mfile_name\u001b[0m\u001b[0;34m,\u001b[0m \u001b[0;34m\"monuments\"\u001b[0m\u001b[0;34m)\u001b[0m\u001b[0;34m\u001b[0m\u001b[0;34m\u001b[0m\u001b[0m\n\u001b[0m\u001b[1;32m      3\u001b[0m \u001b[0;34m\u001b[0m\u001b[0m\n\u001b[1;32m      4\u001b[0m \u001b[0mprint\u001b[0m\u001b[0;34m(\u001b[0m\u001b[0;34m\"monuments appears \"\u001b[0m\u001b[0;34m,\u001b[0m \u001b[0manswer1\u001b[0m\u001b[0;34m,\u001b[0m \u001b[0;34m\"times\"\u001b[0m\u001b[0;34m)\u001b[0m\u001b[0;34m\u001b[0m\u001b[0;34m\u001b[0m\u001b[0m\n\u001b[1;32m      5\u001b[0m \u001b[0;34m\u001b[0m\u001b[0m\n",
            "\u001b[0;31mNameError\u001b[0m: name 'word_count' is not defined"
          ]
        }
      ]
    },
    {
      "cell_type": "markdown",
      "metadata": {
        "id": "h1g7_zq0sjCN"
      },
      "source": [
        "5) It is probably the case that your function in number 4 doesn't handle punctuation very well. \n",
        "\n",
        "If you are looking for \"warm\" and you find \"warm,\" you ideally want \"warm,\" to be counted even though there is a comma present. \n",
        "\n",
        "Modify your **word_count** function so that you remove punctuation like commas, periods, and semi-colons from the file before you go and count the words. \n",
        "\n",
        "If you do this correctly, your new function should give you different answers for words like \"memory\" and \"fuel\" which appear in the file attached to puncuation marks. "
      ]
    },
    {
      "cell_type": "markdown",
      "metadata": {
        "id": "Hexbcc9qsxB8"
      },
      "source": [
        "6) Write a function **word_frequency** that takes in a file name and a file_name and a word as input to the function and returns what percentage of the words in the file match a particular word. \n",
        "\n",
        "That is, you should count the total number of words and divide your word count by the total to get a percentage frequency. This will tell you how often the word appears and could allow you to compare frequencies across files with different lengths. \n",
        "\n",
        "Note: An excellent way to do this is to have your **word_frequency** function make a call to your **word_count** function from the previous problem. \n",
        "\n",
        "You don't have to do this, but now that you have a **word_frequency** function it would be fun to grab another text file from somewhere (it could be something that you have written or something from project Guttenberg) and stick it in your Github. Then use your **word_frequency** function to see if there are certain words (e.g. \"thee\" or maybe even \"shall\") that are used more often by Shakespeare in his sonnets than in the other text file that you found."
      ]
    },
    {
      "cell_type": "code",
      "metadata": {
        "id": "M10NPIOlm3Gk",
        "outputId": "9297efcf-3c94-4b2e-cee6-2f78dbefaec5",
        "colab": {
          "base_uri": "https://localhost:8080/"
        }
      },
      "source": [
        "import urllib.request\n",
        "\n",
        "def count_lines():\n",
        "  file_name1 = \"https://raw.githubusercontent.com/emmasolloway/donkeykong/master/test\"\n",
        "  my_file1 = urllib.request.urlopen(file_name1)\n",
        "  file_name2 = \"https://raw.githubusercontent.com/emmasolloway/donkeykong/master/ROC%2010/10\"\n",
        "  my_file2 = urllib.request.urlopen(file_name2)\n",
        "\n",
        "  line_count1 = 0\n",
        "\n",
        "  for line in my_file1:\n",
        "    line_count1 = line_count1 + 1\n",
        "\n",
        "  line_count2 = 0\n",
        "\n",
        "  for line in my_file2:\n",
        "    line_count2 = line_count2 + 1\n",
        "\n",
        "  print(\"File one has\", line_count1, \"line(s)\")\n",
        "  print(\"File one has\", line_count2, \"line(s)\")\n",
        "\n",
        "count_lines()"
      ],
      "execution_count": null,
      "outputs": [
        {
          "output_type": "stream",
          "text": [
            "File one has 1 line(s)\n",
            "File one has 42 line(s)\n"
          ],
          "name": "stdout"
        }
      ]
    },
    {
      "cell_type": "code",
      "metadata": {
        "id": "oPfuTq3DJRbV",
        "outputId": "f34e5d63-5aac-4f2a-bd88-31842ee09f15",
        "colab": {
          "base_uri": "https://localhost:8080/"
        }
      },
      "source": [
        "import urllib.request\n",
        "\n",
        "file_name = \"https://raw.githubusercontent.com/emmasolloway/donkeykong/master/ROC%2010/10\"\n",
        "my_file = urllib.request.urlopen(file_name)\n",
        "\n",
        "line_count = 0\n",
        "\n",
        "for line in my_file:\n",
        "  line = line.decode(\"utf-8\")\n",
        "  if \"year\" in line:\n",
        "    line_count = line_count + 1\n",
        "print(line_count)\n",
        "\n",
        "\n"
      ],
      "execution_count": 2,
      "outputs": [
        {
          "output_type": "stream",
          "text": [
            "3\n"
          ],
          "name": "stdout"
        }
      ]
    },
    {
      "cell_type": "code",
      "metadata": {
        "id": "SVtimWLjsmEz",
        "outputId": "fb559f78-7051-4122-ae9b-f9e7642a68d1",
        "colab": {
          "base_uri": "https://localhost:8080/"
        }
      },
      "source": [
        "import urllib.request\n",
        "\n",
        "file_name = \"https://raw.githubusercontent.com/emmasolloway/donkeykong/master/ROC%2010/10\"\n",
        "my_file = urllib.request.urlopen(file_name)\n",
        "\n",
        "\n",
        "line_count = 0\n",
        "\n",
        "for line in my_file:\n",
        "  line = line.decode(\"utf-8\")\n",
        "  line = line.lower()\n",
        "  if \"rex\" in line:\n",
        "    line_count = line_count + 1\n",
        "print(line_count)"
      ],
      "execution_count": 7,
      "outputs": [
        {
          "output_type": "stream",
          "text": [
            "1\n"
          ],
          "name": "stdout"
        }
      ]
    },
    {
      "cell_type": "code",
      "metadata": {
        "id": "plrIpiTRtd83",
        "outputId": "ff0fa4af-ba85-472f-e671-3f9b18c2e3d4",
        "colab": {
          "base_uri": "https://localhost:8080/"
        }
      },
      "source": [
        "import urllib.request\n",
        "\n",
        "file_name = \"https://raw.githubusercontent.com/emmasolloway/donkeykong/master/ROC%2010/10\"\n",
        "my_file = urllib.request.urlopen(file_name)\n",
        "\n",
        "\n",
        "line_count = 0\n",
        "\n",
        "for line in my_file:\n",
        "  line = line.decode(\"utf-8\")\n",
        "  line = line.lower()\n",
        "  if \"orange\" in line:\n",
        "    line_count = line_count + 1\n",
        "    answer = line_count\n",
        "print(\"Orange appears\", answer, \"time(s)\")"
      ],
      "execution_count": 8,
      "outputs": [
        {
          "output_type": "stream",
          "text": [
            "Orange appears 1 times\n"
          ],
          "name": "stdout"
        }
      ]
    },
    {
      "cell_type": "code",
      "metadata": {
        "id": "0VlMtRrKuG0V",
        "outputId": "62d0a5d2-a253-4695-fa8b-08be623171f8",
        "colab": {
          "base_uri": "https://localhost:8080/"
        }
      },
      "source": [
        "import urllib.request\n",
        "\n",
        "file_name = \"https://raw.githubusercontent.com/emmasolloway/donkeykong/master/ROC%2010/10\"\n",
        "my_file = urllib.request.urlopen(file_name)\n",
        "\n",
        "\n",
        "line_count = 0\n",
        "\n",
        "for line in my_file:\n",
        "  line = line.decode(\"utf-8\")\n",
        "  line = line.lower()\n",
        "  line = line.replace(\",\", \" \")\n",
        "  if \"now\" in line:\n",
        "    line_count = line_count + 1\n",
        "    answer = line_count\n",
        "print(\"Now appears\", answer, \"time(s)\")"
      ],
      "execution_count": 20,
      "outputs": [
        {
          "output_type": "stream",
          "text": [
            "Now appears 3 time(s)\n"
          ],
          "name": "stdout"
        }
      ]
    },
    {
      "cell_type": "code",
      "metadata": {
        "id": "2xnnF7vvwQd2"
      },
      "source": [
        ""
      ],
      "execution_count": null,
      "outputs": []
    }
  ]
}