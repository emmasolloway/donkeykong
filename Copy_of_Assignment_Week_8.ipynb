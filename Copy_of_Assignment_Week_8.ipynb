{
  "nbformat": 4,
  "nbformat_minor": 0,
  "metadata": {
    "colab": {
      "name": "Copy of Assignment Week 8.ipynb",
      "provenance": [],
      "include_colab_link": true
    },
    "kernelspec": {
      "name": "python3",
      "display_name": "Python 3"
    }
  },
  "cells": [
    {
      "cell_type": "markdown",
      "metadata": {
        "id": "view-in-github",
        "colab_type": "text"
      },
      "source": [
        "<a href=\"https://colab.research.google.com/github/emmasolloway/donkeykong/blob/master/Copy_of_Assignment_Week_8.ipynb\" target=\"_parent\"><img src=\"https://colab.research.google.com/assets/colab-badge.svg\" alt=\"Open In Colab\"/></a>"
      ]
    },
    {
      "cell_type": "markdown",
      "metadata": {
        "id": "HXo3qEu-6hUj"
      },
      "source": [
        "**A WORD GUESSING GAME: HANGMAN**\n",
        "\n",
        "For week 8 and 9, your assignment is to implement the word guessing game called Hangman.\n",
        "\n",
        "As we discussed in the group meetings last week, your goal is to write a  Python that picks a word and runs the game for the user. Then the user should be able to guess letters by typing at the keyboard. Your program will then tell the user whether the letter guessed is in the word. You will repeat this process until the guesses the whole word or until the user loses and runs out of guesses. "
      ]
    },
    {
      "cell_type": "markdown",
      "metadata": {
        "id": "laIlOvJB7gxb"
      },
      "source": [
        "This project is a bit more difficult than anything we have done so far. Therefore, you have until the end of Week 9 to finish the assignment. \n",
        "\n",
        "I believe that the best way to make progress on this type of project is to break it into manageable chunks and get each chunk working before moving onto the next. \n",
        "\n",
        "The worksheet has some helpful examples and can be found here: https://colab.research.google.com/github/mlepinski/Python-Worksheets/blob/master/Week_8_Worksheet.ipynb\n",
        "\n",
        "The instructions here suggest particular design choices. Feel free to be creative and make adjustments as needed. As long as you get a working hangman game, I am happy. "
      ]
    },
    {
      "cell_type": "markdown",
      "metadata": {
        "id": "6pyQqC1078RX"
      },
      "source": [
        "**0)** First, you need a word. To start with, write a function called **choose_word** that just returns \"balloon\". (You can use another word if you want to, but balloon is a reasonable choice.)\n",
        "\n",
        "Eventually, you will want to have a more clever way to pick a word. However, if you write the rest of your code to just ask **choose_word** for a word, you can get things working with a boring **choose_word** function. Then you can later change the code of **choose_word** to do something more interesting and you won't have to change the rest of your program. \n",
        "\n",
        "**1)** Next you need to display the blanks to the user. (I believe the easiest way to do this is to make a list of blanks. You can find some helpful examples in the worksheet)\n",
        "\n",
        "**2)** Next you need to ask the user for a letter. (Just asking for a letter should be easy)\n",
        "\n",
        "**3)** Next you need to handle the case where the user guesses wrong. (I think it is easiest to keep track of the number of wrong guesses and then have a function **print_body** that takes as input the number of wrong guesses and prints the appropriate number of body parts. You can find some helpful example code in the worksheet)\n",
        "\n",
        "**4)** Next you need to handle the case where the user guesses correctly. (This requires you to find the location of the letter in the secret word and then change a blank into a letter. The worksheet has some examples that may be helpful.)\n",
        "\n",
        "**5)** Now you want to take what you have done and put it into a loop. I suggest a **while** loop. (You will want to leave the loop when the game is over. That is, when the user gets too many wrong guesses -- runs out of body parts -- or when the user correctly guesses the entire word)\n",
        "\n",
        "**6)** Now it is time to go back and change **choose_word**. I believe that a reasonable solution is to randomly select a word from a list of possible words (or phrases?) ... It would be even better if these possible words were stored in a separate file so that you can change the possible words without changing your program. (The worksheet has a helpful example of using Python to read an external file.)\n",
        "\n",
        "**7)** Look back at your program and see if there is any way that you can add polish or improve the use experience. Maybe it would be helpful to print out the wrong guesses that the user has made to help them avoid making the same wrong guess twice. Maybe you can print out things a little bit more nicely for the user. Maybe you could add a helpful error message if the user enters something that is not a letter when guesses. \n",
        "\n",
        "This problem is just asking to you to look back critically at your program and see if there is something that you can do to make it into a nicer finished project."
      ]
    },
    {
      "cell_type": "code",
      "metadata": {
        "id": "3khrgfgB7gNa",
        "outputId": "1c0efcfe-0655-4887-f2d0-0c5d721f32bd",
        "colab": {
          "base_uri": "https://localhost:8080/",
          "height": 266
        }
      },
      "source": [
        "import urllib.request\n",
        "import random\n",
        "i=0\n",
        "def choose_word():\n",
        "  file_name = \"https://raw.githubusercontent.com/mlepinski/Python-Worksheets/master/coolWords.txt\"\n",
        "  my_file = urllib.request.urlopen(file_name)\n",
        "  long_string = my_file.read()\n",
        "  long_string = long_string.decode(\"utf-8\")\n",
        "  word_list = long_string.split(\"\\n\")\n",
        "  word_list = random.choice(word_list)\n",
        "  length = len(word_list)\n",
        "  print(word_list, length)\n",
        "  return word_list\n",
        "  new_list = []\n",
        "  for num in range(length):\n",
        "    new_list.append(\"_\")\n",
        "  print(new_list)\n",
        "\n",
        "\n",
        "\n",
        "choose_word()\n",
        "\n",
        "#take word and get letters:\n",
        "#def blankFunction(letters):\n",
        "\n",
        "\n",
        "def print_body(number):\n",
        "  if number == 1:\n",
        "    print(\"  (_)  \")\n",
        "  if number == 2:\n",
        "    print(\"  (_)  \")\n",
        "    print(\"   |   \")\n",
        "    print(\"   |   \")\n",
        "  if number == 3:\n",
        "    print(\"  (_)  \")\n",
        "    print(\"  /|   \")\n",
        "    print(\" / |   \")\n",
        "  if number == 4:\n",
        "    print(\"  (_)  \")\n",
        "    print(\"  /|\\  \")\n",
        "    print(\" / | \\ \")\n",
        "  if number == 5:\n",
        "    print(\"  (_)  \")\n",
        "    print(\"  /|\\  \")\n",
        "    print(\" / | \\ \")\n",
        "    print(\"  /    \")\n",
        "    print(\" /     \")\n",
        "  if number == 6:\n",
        "    print(\"  (_)  \")\n",
        "    print(\"  /|\\  \")\n",
        "    print(\" / | \\ \")\n",
        "    print(\"  / \\  \")\n",
        "    print(\" /   \\ \")   \n",
        "\n",
        "guess = input(\"Guess a letter: \")\n",
        "\n",
        "while guess == \"h\" or \"o\" or \"y\" or \"a\":\n",
        "  if guess == \"h\":\n",
        "    hoyaList[0] = \"h\"\n",
        "    print(hoyaList)\n",
        "    guess = input(\"Yes. Guess another: \")\n",
        "  if guess == \"o\":\n",
        "    hoyaList[1] = \"o\"\n",
        "    print(hoyaList)\n",
        "    guess = input(\"Yes. Guess another: \")\n",
        "  if guess == \"y\":\n",
        "    hoyaList[2] = \"y\"\n",
        "    print(hoyaList)\n",
        "    guess = input(\"Yes. Guess another: \")\n",
        "  if guess == \"a\":\n",
        "    hoyaList[3] = \"a\"\n",
        "    print(hoyaList)\n",
        "    guess = input(\"Yes. Guess another: \")\n",
        "  else:\n",
        "    i+=1\n",
        "    print_body(i)\n",
        "    guess = input(\"Wrong. Guess something else: \")\n",
        "\n",
        "print(hoyaList)\n",
        "\n",
        "  #return the correct letter in the place it belongs\n",
        "  #say user guesses \"o\": return _ o _ _\n",
        "\n",
        "\n",
        "#issues:\n",
        "#how to store correct guesses\n",
        "#how to get the right blanks\n",
        "#wrong??"
      ],
      "execution_count": 10,
      "outputs": [
        {
          "output_type": "stream",
          "text": [
            "Pignite 7\n",
            "Guess a letter: h\n"
          ],
          "name": "stdout"
        },
        {
          "output_type": "error",
          "ename": "NameError",
          "evalue": "ignored",
          "traceback": [
            "\u001b[0;31m---------------------------------------------------------------------------\u001b[0m",
            "\u001b[0;31mNameError\u001b[0m                                 Traceback (most recent call last)",
            "\u001b[0;32m<ipython-input-10-0d83dbb452c2>\u001b[0m in \u001b[0;36m<module>\u001b[0;34m()\u001b[0m\n\u001b[1;32m     57\u001b[0m \u001b[0;32mwhile\u001b[0m \u001b[0mguess\u001b[0m \u001b[0;34m==\u001b[0m \u001b[0;34m\"h\"\u001b[0m \u001b[0;32mor\u001b[0m \u001b[0;34m\"o\"\u001b[0m \u001b[0;32mor\u001b[0m \u001b[0;34m\"y\"\u001b[0m \u001b[0;32mor\u001b[0m \u001b[0;34m\"a\"\u001b[0m\u001b[0;34m:\u001b[0m\u001b[0;34m\u001b[0m\u001b[0;34m\u001b[0m\u001b[0m\n\u001b[1;32m     58\u001b[0m   \u001b[0;32mif\u001b[0m \u001b[0mguess\u001b[0m \u001b[0;34m==\u001b[0m \u001b[0;34m\"h\"\u001b[0m\u001b[0;34m:\u001b[0m\u001b[0;34m\u001b[0m\u001b[0;34m\u001b[0m\u001b[0m\n\u001b[0;32m---> 59\u001b[0;31m     \u001b[0mhoyaList\u001b[0m\u001b[0;34m[\u001b[0m\u001b[0;36m0\u001b[0m\u001b[0;34m]\u001b[0m \u001b[0;34m=\u001b[0m \u001b[0;34m\"h\"\u001b[0m\u001b[0;34m\u001b[0m\u001b[0;34m\u001b[0m\u001b[0m\n\u001b[0m\u001b[1;32m     60\u001b[0m     \u001b[0mprint\u001b[0m\u001b[0;34m(\u001b[0m\u001b[0mhoyaList\u001b[0m\u001b[0;34m)\u001b[0m\u001b[0;34m\u001b[0m\u001b[0;34m\u001b[0m\u001b[0m\n\u001b[1;32m     61\u001b[0m     \u001b[0mguess\u001b[0m \u001b[0;34m=\u001b[0m \u001b[0minput\u001b[0m\u001b[0;34m(\u001b[0m\u001b[0;34m\"Yes. Guess another: \"\u001b[0m\u001b[0;34m)\u001b[0m\u001b[0;34m\u001b[0m\u001b[0;34m\u001b[0m\u001b[0m\n",
            "\u001b[0;31mNameError\u001b[0m: name 'hoyaList' is not defined"
          ]
        }
      ]
    },
    {
      "cell_type": "code",
      "metadata": {
        "id": "WIY3KCYJ6ZAw"
      },
      "source": [
        ""
      ],
      "execution_count": null,
      "outputs": []
    }
  ]
}