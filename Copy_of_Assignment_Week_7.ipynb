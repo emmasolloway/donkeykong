{
  "nbformat": 4,
  "nbformat_minor": 0,
  "metadata": {
    "colab": {
      "name": "Copy of Assignment Week 7.ipynb",
      "provenance": [],
      "include_colab_link": true
    },
    "kernelspec": {
      "name": "python3",
      "display_name": "Python 3"
    }
  },
  "cells": [
    {
      "cell_type": "markdown",
      "metadata": {
        "id": "view-in-github",
        "colab_type": "text"
      },
      "source": [
        "<a href=\"https://colab.research.google.com/github/emmasolloway/donkeykong/blob/master/Copy_of_Assignment_Week_7.ipynb\" target=\"_parent\"><img src=\"https://colab.research.google.com/assets/colab-badge.svg\" alt=\"Open In Colab\"/></a>"
      ]
    },
    {
      "cell_type": "markdown",
      "metadata": {
        "id": "ssVL6QEUKk_L"
      },
      "source": [
        "# WEEK 7 ASSIGNMENT : Working with Strings\n",
        "\n",
        "----------------\n",
        "\n",
        "You are encouraged to create a new blank workbook for your solutions. You should then save your solutions into GitHub.\n",
        "\n",
        "**0)** Write a program that prints the following by using the VARIABLE.upper() and VARIABLE.lower() commands:\n",
        "\"Hello World\"\n",
        "\"HELLO WORLD\"\n",
        "\"hello world\"\n",
        "\n",
        "**1)** Define a python function, hasVowels(str), that takes in a string as input to the function and checks to see if the string contains any vowels. Your function should return True if the string has a vowel and False if the string does not have a vowel. \n",
        "\n",
        "If your **hasVowels** function is written correctly then the following test code should work:\n",
        " "
      ]
    },
    {
      "cell_type": "code",
      "metadata": {
        "id": "2udnQYLbKddY"
      },
      "source": [
        "word = \"berry\"\n",
        "not_word = \"fghjk\"\n",
        "\n",
        "if hasVowels(word):\n",
        "  print(\"The string\", word, \"has at least one vowel\")\n",
        "else:\n",
        "  print(\"The string\", word, \"does not have any vowels\")\n",
        "\n",
        "if hasVowels(not_word):\n",
        "  print(\"The string\", not_word, \"has at least one vowel\")\n",
        "else:\n",
        "  print(\"The string\", not_word, \"does not have any vowels\")"
      ],
      "execution_count": null,
      "outputs": []
    },
    {
      "cell_type": "markdown",
      "metadata": {
        "id": "wMs6Ap_qMJDo"
      },
      "source": [
        "**2)** Write a Python program that makes use of your existing **hasVowels** function to do the following task. Repeatedly ask the user to enter a word with vowels from the keyboard, you should stop when the user correctly enters a word with vowels. \n",
        "\n",
        "For example, if the user first types \"fhbjk\" and then types \"mbbccv\" you should keep asking the user to try again until they finally successfully enter something that has at least one vowel."
      ]
    },
    {
      "cell_type": "markdown",
      "metadata": {
        "id": "3zKsF4QiMxTu"
      },
      "source": [
        "**3)** Define a Python function called, countVowels(str), that takes in a string as input to the function and returns the number of vowels in the string. \n",
        "\n",
        "You should have a count variable inside the function and then loop through the letters in the string and check each one to see if it is a vowel. \n",
        "\n",
        "If your **countVowels** function is written correctly then the following test code should work.\n",
        "\n"
      ]
    },
    {
      "cell_type": "code",
      "metadata": {
        "id": "JTWk3nZWNSTO",
        "outputId": "0979f9c1-edd3-467a-9e0e-434a17309681",
        "colab": {
          "base_uri": "https://localhost:8080/",
          "height": 232
        }
      },
      "source": [
        "name1 = \"matthew\"\n",
        "name2 = \"lepinski\"\n",
        "\n",
        "count1 = countVowels(name1)\n",
        "count2 = countVowels(name2)\n",
        "\n",
        "print(name1, \"has\", count1, \"vowels in it\")\n",
        "print(name2, \"has\", count2, \"vowels in it\")"
      ],
      "execution_count": 2,
      "outputs": [
        {
          "output_type": "error",
          "ename": "NameError",
          "evalue": "ignored",
          "traceback": [
            "\u001b[0;31m---------------------------------------------------------------------------\u001b[0m",
            "\u001b[0;31mNameError\u001b[0m                                 Traceback (most recent call last)",
            "\u001b[0;32m<ipython-input-2-0dc89965a78e>\u001b[0m in \u001b[0;36m<module>\u001b[0;34m()\u001b[0m\n\u001b[1;32m      2\u001b[0m \u001b[0mname2\u001b[0m \u001b[0;34m=\u001b[0m \u001b[0;34m\"lepinski\"\u001b[0m\u001b[0;34m\u001b[0m\u001b[0;34m\u001b[0m\u001b[0m\n\u001b[1;32m      3\u001b[0m \u001b[0;34m\u001b[0m\u001b[0m\n\u001b[0;32m----> 4\u001b[0;31m \u001b[0mcount1\u001b[0m \u001b[0;34m=\u001b[0m \u001b[0mcountVowels\u001b[0m\u001b[0;34m(\u001b[0m\u001b[0mname1\u001b[0m\u001b[0;34m)\u001b[0m\u001b[0;34m\u001b[0m\u001b[0;34m\u001b[0m\u001b[0m\n\u001b[0m\u001b[1;32m      5\u001b[0m \u001b[0mcount2\u001b[0m \u001b[0;34m=\u001b[0m \u001b[0mcountVowels\u001b[0m\u001b[0;34m(\u001b[0m\u001b[0mname2\u001b[0m\u001b[0;34m)\u001b[0m\u001b[0;34m\u001b[0m\u001b[0;34m\u001b[0m\u001b[0m\n\u001b[1;32m      6\u001b[0m \u001b[0;34m\u001b[0m\u001b[0m\n",
            "\u001b[0;31mNameError\u001b[0m: name 'countVowels' is not defined"
          ]
        }
      ]
    },
    {
      "cell_type": "markdown",
      "metadata": {
        "id": "6JyIDGJyNmJF"
      },
      "source": [
        "**4)** Write a Python program that starts with an empty list and then asks the user to enter a word. The program should add the word to the list and then ask for a new word (and add the new word to the list) and continue like this until the user enters \"stop\" or \"STOP\" or \"STop\" or any variation like \"sTOP\" or \"stoP\".\n",
        "\n",
        "Note: We did something similar to this last week, you might want to look at the Week 6 assignment or worksheet for inspiration"
      ]
    },
    {
      "cell_type": "markdown",
      "metadata": {
        "id": "QmWEmSA9OXtN"
      },
      "source": [
        "**5)** Use your **countVowels** funciton from problem 3 and your list of words from problem 4 together to figure out the total number of vowels in all of the words that the user enters. \n",
        "\n",
        "Note: Ideally, you should not count the 1 \"o\" in the \"stop\" that they typed at the end"
      ]
    },
    {
      "cell_type": "code",
      "metadata": {
        "id": "2r5iTjOraDVz",
        "outputId": "232aeede-3441-4b99-c2b7-498d445712cf",
        "colab": {
          "base_uri": "https://localhost:8080/",
          "height": 68
        }
      },
      "source": [
        "word1 = \"Hello\"\n",
        "word2 = \"World\"\n",
        "word3 = \"HELLO\"\n",
        "word4 = \"WORLD\"\n",
        "word5 = \"hello\"\n",
        "word6 = \"world\"\n",
        "\n",
        "print(word1, word2)\n",
        "print(word3, word4)\n",
        "print(word5, word6)"
      ],
      "execution_count": null,
      "outputs": [
        {
          "output_type": "stream",
          "text": [
            "Hello World\n",
            "HELLO WORLD\n",
            "hello world\n"
          ],
          "name": "stdout"
        }
      ]
    },
    {
      "cell_type": "code",
      "metadata": {
        "id": "F0vN3Z6xchSb",
        "outputId": "afc38e80-9edb-4934-8693-ee8f47e0db86",
        "colab": {
          "base_uri": "https://localhost:8080/",
          "height": 51
        }
      },
      "source": [
        "def hasVowels():\n",
        "  if \"a\" in word:\n",
        "    print(word, \"contains a vowel\")\n",
        "  elif \"e\" in word:\n",
        "    print(word, \"contains a vowel\")\n",
        "  elif \"i\" in word:\n",
        "    print(word, \"contains a vowel\")\n",
        "  elif \"o\" in word:\n",
        "    print(word, \"contains a vowel\")\n",
        "  elif \"u\" in word:\n",
        "    print(word, \"contains a vowel\")\n",
        "  else:\n",
        "    print(word, \"does not contain a vowel\")\n",
        "\n",
        "word = input(\"choose a word: \")\n",
        "\n",
        "hasVowels()"
      ],
      "execution_count": null,
      "outputs": [
        {
          "output_type": "stream",
          "text": [
            "choose a word: gggg\n",
            "gggg does not contain a vowel\n"
          ],
          "name": "stdout"
        }
      ]
    },
    {
      "cell_type": "code",
      "metadata": {
        "id": "0Sd4skt3eCzG",
        "outputId": "f2ec5cdf-b404-48c1-be5e-086bb6858a74",
        "colab": {
          "base_uri": "https://localhost:8080/",
          "height": 85
        }
      },
      "source": [
        "def hasVowels():\n",
        "  word = input(\"Choose a word: \")\n",
        "  if \"a\" in word:\n",
        "    print(word, \"contains a vowel. Nice!\")\n",
        "  elif \"e\" in word:\n",
        "    print(word, \"contains a vowel. Nice!\")\n",
        "  elif \"i\" in word:\n",
        "    print(word, \"contains a vowel. Nice!\")\n",
        "  elif \"o\" in word:\n",
        "    print(word, \"contains a vowel. Nice!\")\n",
        "  elif \"u\" in word:\n",
        "    print(word, \"contains a vowel. Nice!\")\n",
        "  else:\n",
        "    print(word, \"does not contain a vowel, try again!\")\n",
        "    hasVowels()\n",
        "\n",
        "hasVowels()\n",
        "    "
      ],
      "execution_count": 1,
      "outputs": [
        {
          "output_type": "stream",
          "text": [
            "Choose a word: djdjjdjdj\n",
            "djdjjdjdj does not contain a vowel\n",
            "Choose a word: hi\n",
            "hi contains a vowel. Nice!\n"
          ],
          "name": "stdout"
        }
      ]
    },
    {
      "cell_type": "code",
      "metadata": {
        "id": "8tIGT1c-ftW7",
        "outputId": "61baf5a8-ee07-4dbe-8d5f-3e2edf424952",
        "colab": {
          "base_uri": "https://localhost:8080/",
          "height": 51
        }
      },
      "source": [
        "def countVowels(str):\n",
        "  str = \"Hello, my name is Emma. I am writing code in python!\"\n",
        "  cnt = 0\n",
        "  if \"a\" in str:\n",
        "    cnt = cnt + 1\n",
        "  if \"e\" in str:\n",
        "    cnt = cnt + 1\n",
        "  if \"i\" in str:\n",
        "    cnt = cnt + 1\n",
        "  if \"o\" in str:\n",
        "    cnt = cnt + 1\n",
        "  if \"u\" in str:\n",
        "    cnt = cnt + 1\n",
        "  else:\n",
        "    cnt = cnt\n",
        "  print(str)\n",
        "  print(\"The string above has\", cnt, \"vowels.\")\n",
        "\n",
        "countVowels(str)\n"
      ],
      "execution_count": 13,
      "outputs": [
        {
          "output_type": "stream",
          "text": [
            "Hello, my name is Emma. I am writing code in python!\n",
            "The string above has 4 vowels.\n"
          ],
          "name": "stdout"
        }
      ]
    },
    {
      "cell_type": "code",
      "metadata": {
        "id": "slAkemU8jAjL",
        "outputId": "da535041-249a-4c6c-d50f-bf69e627bc4c",
        "colab": {
          "base_uri": "https://localhost:8080/",
          "height": 85
        }
      },
      "source": [
        "inputs = input(\"Write something: \")\n",
        "userList = [inputs]\n",
        "while inputs != \"stop\":\n",
        "  inputs = input(\"Write something: \")\n",
        "  userList.append(inputs)\n",
        "\n",
        "print(userList)\n",
        "\n",
        "#how to write cariations on stop\n",
        "#how to exclude stop from the list"
      ],
      "execution_count": 65,
      "outputs": [
        {
          "output_type": "stream",
          "text": [
            "Write something: I\n",
            "Write something: he\n",
            "Write something: stop\n",
            "['I', 'he', 'stop']\n"
          ],
          "name": "stdout"
        }
      ]
    },
    {
      "cell_type": "code",
      "metadata": {
        "id": "2TA2ylPQl5Nx",
        "outputId": "7b361a28-1ec0-4bf2-b521-6f43607bc53a",
        "colab": {
          "base_uri": "https://localhost:8080/",
          "height": 102
        }
      },
      "source": [
        "def countVowels(userList):\n",
        "\n",
        "  inputs = input(\"Write something: \")\n",
        "  userList = [inputs]\n",
        "  while inputs != \"stop\":\n",
        "    inputs = input(\"Write something: \")\n",
        "    userList.append(inputs)\n",
        "  cnt = 0\n",
        "  if \"a\" in str:\n",
        "    cnt = cnt + 1\n",
        "  if \"e\" in str:\n",
        "    cnt = cnt + 1\n",
        "  if \"i\" in str:\n",
        "    cnt = cnt + 1\n",
        "  if \"o\" in str:\n",
        "    cnt = cnt + 1\n",
        "  if \"u\" in str:\n",
        "    cnt = cnt + 1\n",
        "  else:\n",
        "    cnt = cnt\n",
        "  print(userList)\n",
        "  print(\"The string above has\", cnt, \"vowels.\")\n",
        "\n",
        "countVowels(userList)\n",
        "\n",
        "#figure out how to exclude stop from list and cnt"
      ],
      "execution_count": 51,
      "outputs": [
        {
          "output_type": "stream",
          "text": [
            "Write something: HI\n",
            "Write something: hello\n",
            "Write something: stop\n",
            "['HI', 'hello', 'stop']\n",
            "The string above has 4 vowels.\n"
          ],
          "name": "stdout"
        }
      ]
    }
  ]
}